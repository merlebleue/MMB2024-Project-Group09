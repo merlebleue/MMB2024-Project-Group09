{
 "cells": [
  {
   "cell_type": "markdown",
   "metadata": {},
   "source": [
    "# Mathematical Modelling of Behaviour - Group Project\n",
    "\n",
    "**Group 9**\n",
    "\n",
    "*Julien Marie F Ars, Chady Bensaid, Mohamed Amine Lazrak, Joshua Oyewole Oyebanji*"
   ]
  },
  {
   "cell_type": "markdown",
   "metadata": {},
   "source": []
  }
 ],
 "metadata": {
  "language_info": {
   "name": "python"
  }
 },
 "nbformat": 4,
 "nbformat_minor": 2
}
